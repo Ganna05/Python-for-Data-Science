{
 "cells": [
  {
   "cell_type": "code",
   "execution_count": 1,
   "metadata": {},
   "outputs": [],
   "source": [
    "import numpy as np\n",
    "import pandas as pd\n",
    "from sklearn.model_selection import train_test_split\n",
    "from sklearn.linear_model import LinearRegression\n",
    "lr = LinearRegression()\n",
    "\n",
    "from sklearn.metrics import mean_squared_error as mse\n",
    "TICK = 'EURUSD'\n",
    "ANALIZE_TICKERS =['EURUSD', 'USDJPY', 'ICE.BRN', 'comex.GC', 'DJ.A1ENE', 'DJ.E1ENE', 'DJ.A1NCY', 'DJ.E1NCY']\n",
    "# Стратегия: берем для построения модели ровно три месяца до даты предсказания, т.е если хотим предсказать цены на 22.06.2019\n",
    "#     периоды должны быть такими:\n",
    "#     BASE_PER = '_190321_190621'\n",
    "#     ADD_PER = '_190621_190621'\n",
    "#     PREDICT_PER = '_190621_190621'\n",
    "\n",
    "PERIOD_TICK = 1\n",
    "TESTSIZE = 0.01\n",
    "BASE_PER = '_190403_190703'\n",
    "ADD_PER = '_190703_190703'\n",
    "PREDICT_PER = '_190703_190703'\n",
    "CONTROL_PER = '_190703_190703'\n",
    "SEARCH_TARGET = ['model_evaluation', 'prediction']"
   ]
  },
  {
   "cell_type": "code",
   "execution_count": 2,
   "metadata": {},
   "outputs": [],
   "source": [
    "def del_col(df, cols): #функция удаляет столбцы датафрейма \"df\", наименование которых переданы в списке \"cols\"\n",
    "    for i in cols:\n",
    "        df = df.drop(i, axis=1)\n",
    "    return df"
   ]
  },
  {
   "cell_type": "code",
   "execution_count": 3,
   "metadata": {},
   "outputs": [],
   "source": [
    "def new_df(csv_file): #функция создате новый датафрейм из данных файла \"csv_file\", преобразуя \"наименование\" колонок на \"наименование+Тикер\", также преобразует значение колонки <DATE> ГГГГММЧЧ на ГГГГММДД:ЧЧММСС \n",
    "    df = pd.read_csv(csv_file, sep=';')\n",
    "    ticker = df['<TICKER>'][0]\n",
    "    df['<DATE>'] = df['<DATE>'].astype(str).str.cat(df['<TIME>'].astype(str), sep=': ')\n",
    "    df = df.drop('<TIME>', axis=1)\n",
    "    df = df.drop('<PER>', axis=1)\n",
    "    df = df.drop('<TICKER>', axis=1)\n",
    "    df.rename(columns={'<OPEN>':'<OPEN>'+ ticker, '<HIGH>':'<HIGH>'+ ticker,'<LOW>':'<LOW>'+ ticker,'<CLOSE>':'<CLOSE>'+ ticker,'<VOL>':'<VOL>'+ ticker}, inplace=True)\n",
    "    return df"
   ]
  },
  {
   "cell_type": "code",
   "execution_count": 4,
   "metadata": {},
   "outputs": [],
   "source": [
    "def merge_df(df_a, df_b): #функция соединяет датафреймы \"df_a\", \"df_b\"по колонке <DATE>\n",
    "    df = pd.merge(df_a, df_b, on='<DATE>', how='inner') #how='outer'\n",
    "    return df"
   ]
  },
  {
   "cell_type": "code",
   "execution_count": 5,
   "metadata": {},
   "outputs": [],
   "source": [
    "def merge_all_df(all_df):\n",
    "    df_all = all_df[0]\n",
    "    for i in range(1, len(all_df)):\n",
    "        df_all = merge_df(df_all, all_df[i])\n",
    "    df_all.fillna(0, inplace=True) #заполняет пустые значения \"NAN\" на нули \"0\"\n",
    "    return df_all\n",
    "        "
   ]
  },
  {
   "cell_type": "code",
   "execution_count": 6,
   "metadata": {},
   "outputs": [],
   "source": [
    "def create_x_y_df(df_all, ticker, period=1): #функция разбивающая датафреймы, где df_x и df_y\n",
    "    df_x = df_all.drop('<DATE>', axis=1)     \n",
    "    df_y = df_all[['<OPEN>'+ticker, '<HIGH>'+ticker, '<LOW>'+ticker, '<CLOSE>'+ticker, '<VOL>'+ticker]]\n",
    "    df_x = df_x.iloc[:df_y.shape[0]-period,:]\n",
    "    df_y = df_y.iloc[period:,:]\n",
    "\n",
    "    return df_x, df_y"
   ]
  },
  {
   "cell_type": "code",
   "execution_count": 7,
   "metadata": {},
   "outputs": [],
   "source": [
    "def train_df(x_train, y_train): #функция, строящаяся модель линейной регрессии\n",
    "    lr_price = lr.fit(x_train, y_train) \n",
    "    return lr_price"
   ]
  },
  {
   "cell_type": "code",
   "execution_count": 8,
   "metadata": {},
   "outputs": [],
   "source": [
    "# функция строящаяся модель предсказание, и предоставляющая датафрейм с предсказанными ценнами на основе цен, содержащихся в df_to_predict\n",
    "def ticker_predict(df_all, ticker, period = 1, testsize = 0.25, predict = 0, df_to_predict=0):\n",
    "    x, y = create_x_y_df(df_all, ticker, period)\n",
    "    x_train, x_test, y_train, y_test = train_test_split(x, y, test_size = testsize, random_state = 42)\n",
    "    \n",
    "    if predict == 1:\n",
    "        x_test = df_to_predict\n",
    "        lr_open = train_df(x_train, y_train['<OPEN>'+ticker])\n",
    "        y_pred_open = lr_open.predict(x_test)       \n",
    "        lr_high = train_df(x_train, y_train['<HIGH>'+ticker])\n",
    "        y_pred_high = lr_high.predict(x_test)        \n",
    "        lr_low = train_df(x_train, y_train['<LOW>'+ticker])\n",
    "        y_pred_low = lr_low.predict(x_test)        \n",
    "        lr_close = train_df(x_train, y_train['<CLOSE>'+ticker])\n",
    "        y_pred_close = lr_close.predict(x_test)\n",
    "        lr_vol = train_df(x_train, y_train['<VOL>'+ticker])\n",
    "        y_pred_vol = lr_vol.predict(x_test)\n",
    "        check_test = pd.DataFrame({'Ожидаемые цены y_pred_open':y_pred_open, 'y_pred_high':y_pred_high, 'y_pred_low':y_pred_low, 'y_pred_close':y_pred_close, 'y_pred_vol':y_pred_vol})\n",
    "        return check_test\n",
    "    else: \n",
    "        lr_open = train_df(x_train, y_train['<OPEN>'+ticker])\n",
    "        y_pred_open = lr_open.predict(x_test)\n",
    "        lr_high = train_df(x_train, y_train['<HIGH>'+ticker])\n",
    "        y_pred_high = lr_high.predict(x_test)\n",
    "        lr_low = train_df(x_train, y_train['<LOW>'+ticker])\n",
    "        y_pred_low = lr_low.predict(x_test)\n",
    "        lr_close = train_df(x_train, y_train['<CLOSE>'+ticker])\n",
    "        y_pred_close = lr_close.predict(x_test)\n",
    "        lr_vol = train_df(x_train, y_train['<VOL>'+ticker])\n",
    "        y_pred_vol = lr_vol.predict(x_test)\n",
    "        check_test = pd.DataFrame({'y_test_open':y_test['<OPEN>'+ticker], 'y_pred_open':y_pred_open, 'y_test_high':y_test['<HIGH>'+ticker], 'y_pred_high':y_pred_high, 'y_test_low':y_test['<LOW>'+ticker], 'y_pred_low':y_pred_low, 'y_test_close':y_test['<CLOSE>'+ticker], 'y_pred_close':y_pred_close, 'y_test_vol':y_test['<VOL>'+ticker], 'y_pred_vol':y_pred_vol})\n",
    "        initial_mse_open = mse(y_test['<OPEN>'+ticker], y_pred_open)\n",
    "        initial_mse_high = mse(y_test['<HIGH>'+ticker], y_pred_high)\n",
    "        initial_mse_low = mse(y_test['<LOW>'+ticker], y_pred_low)\n",
    "        initial_mse_close = mse(y_test['<CLOSE>'+ticker], y_pred_close)\n",
    "        initial_mse_vol = mse(y_test['<VOL>'+ticker], y_pred_vol)\n",
    "        print(f\"mse_open: {initial_mse_open}, mse_high: {initial_mse_high}, mse_low: {initial_mse_low}, mse_close: {initial_mse_close}, mse_vol: {initial_mse_vol}\")\n",
    "        return check_test\n"
   ]
  },
  {
   "cell_type": "code",
   "execution_count": 9,
   "metadata": {},
   "outputs": [],
   "source": [
    "def readfiles_csv(files):\n",
    "    all_df = []\n",
    "    for i in range(len(files)):\n",
    "        all_df.append(new_df(files[i]))\n",
    "    df_all = merge_all_df(all_df)\n",
    "    return df_all"
   ]
  },
  {
   "cell_type": "code",
   "execution_count": 10,
   "metadata": {},
   "outputs": [],
   "source": [
    "def concan_df(df_base, add_per):\n",
    "    files_pred = [] \n",
    "    for i in range(len(ANALIZE_TICKERS)): \n",
    "        files_pred.append(ANALIZE_TICKERS[i]+add_per+'.csv')\n",
    "    df_all_pred = readfiles_csv(files_pred) #Датафрейм дня (закончившегося) на основании данных которого идет предсказание цен на следующий день.\n",
    "    df_all_train = pd.concat([df_base, df_all_pred], axis=0) #Добавление данных закончившегося дня к датафрейму-базе для тренировкиadd_per, построение модели-предсказания\n",
    "    return df_all_train"
   ]
  },
  {
   "cell_type": "code",
   "execution_count": 11,
   "metadata": {},
   "outputs": [],
   "source": [
    "def search(search_target=SEARCH_TARGET[1], from_file='Yes', df_concat='Yes', add_per=0):\n",
    "    if from_file == 'Yes':\n",
    "        df_all_train = pd.read_csv('df_all'+TICK+'.csv') \n",
    "    else: \n",
    "        files_train = [] \n",
    "        for i in range(len(ANALIZE_TICKERS)):\n",
    "            files_train.append(ANALIZE_TICKERS[i]+BASE_PER+'.csv')\n",
    "        df_all_train = readfiles_csv(files_train)\n",
    "    if df_concat == 'Yes':\n",
    "        df_all_train = concan_df(df_all_train, add_per)\n",
    "            \n",
    "    if search_target == SEARCH_TARGET[0]: #target = model_evolution\n",
    "        check_test = ticker_predict(df_all_train, TICK, PERIOD_TICK, TESTSIZE, 0, 0) # Предсказание цены на завтра по база df_to_predict      \n",
    "    elif search_target == SEARCH_TARGET[1]: #target = prediction\n",
    "        files_pred = [] \n",
    "        for i in range(len(ANALIZE_TICKERS)):\n",
    "            files_pred.append(ANALIZE_TICKERS[i]+PREDICT_PER+'.csv')\n",
    "        df_all_pred = readfiles_csv(files_pred) #Датафрейм дня (закончившегося) на основании данных которого идет предсказание цен на следующий день.\n",
    "        df_all_train = pd.concat([df_all_train, df_all_pred], axis=0) #Добавление данных закончившегося дня к датафрейму-базе для тренировки, построение модели-предсказания\n",
    "        df_to_predict, prev_price = create_x_y_df(df_all_pred, TICK, 0) #Вытаскивание данных из датафрейма (df_all_pred) для отправки в модель-предсказание \n",
    "        # df_to_predict #На основании данного датафрейма происходит предсказание цен на следующий день\n",
    "        check_test = ticker_predict(df_all_train, TICK, PERIOD_TICK, TESTSIZE, 1, df_to_predict) # Предсказание цены на завтра по база df_to_predict\n",
    "        # 0 - оценка тренированной модели предсказания\n",
    "        # 1 - боевая модель предсказания на следующий день. Т.е. реальные прогнозы на цены по TICK\n",
    "    df_all_train.to_csv('df_all'+TICK+'.csv', index=False, encoding='utf-8')  \n",
    "    return check_test  "
   ]
  },
  {
   "cell_type": "markdown",
   "metadata": {},
   "source": [
    "#### Построение модели предсказание цены на сделки TICK\n",
    "по функции \n",
    "def search(search_target=SEARCH_TARGET[1], from_file='Yes', df_concat='concat')\n",
    "где\n",
    "SEARCH_TARGET = ['model_evaluation', 'prediction'] \n",
    "from_file='Yes' - означает считывание существующей базы из файла ('df_all'+TICK+'.csv')\n",
    "df_concat='concat' - означает что добавляет значения из базы (df_all_pred) к базе 'df_all_train'"
   ]
  },
  {
   "cell_type": "code",
   "execution_count": 12,
   "metadata": {},
   "outputs": [],
   "source": [
    "check_test = search(SEARCH_TARGET[1], 'No', 'No', ADD_PER) # def search(search_target=SEARCH_TARGET[1], from_file='Yes', df_concat='concat')"
   ]
  },
  {
   "cell_type": "code",
   "execution_count": 13,
   "metadata": {
    "scrolled": true
   },
   "outputs": [
    {
     "data": {
      "text/html": [
       "<div>\n",
       "<style scoped>\n",
       "    .dataframe tbody tr th:only-of-type {\n",
       "        vertical-align: middle;\n",
       "    }\n",
       "\n",
       "    .dataframe tbody tr th {\n",
       "        vertical-align: top;\n",
       "    }\n",
       "\n",
       "    .dataframe thead th {\n",
       "        text-align: right;\n",
       "    }\n",
       "</style>\n",
       "<table border=\"1\" class=\"dataframe\">\n",
       "  <thead>\n",
       "    <tr style=\"text-align: right;\">\n",
       "      <th></th>\n",
       "      <th>Ожидаемые цены y_pred_open</th>\n",
       "      <th>y_pred_high</th>\n",
       "      <th>y_pred_low</th>\n",
       "      <th>y_pred_close</th>\n",
       "      <th>y_pred_vol</th>\n",
       "    </tr>\n",
       "  </thead>\n",
       "  <tbody>\n",
       "    <tr>\n",
       "      <th>count</th>\n",
       "      <td>1.00000</td>\n",
       "      <td>1.000000</td>\n",
       "      <td>1.000000</td>\n",
       "      <td>1.000000</td>\n",
       "      <td>1.000000e+00</td>\n",
       "    </tr>\n",
       "    <tr>\n",
       "      <th>mean</th>\n",
       "      <td>1.12825</td>\n",
       "      <td>1.132624</td>\n",
       "      <td>1.126886</td>\n",
       "      <td>1.128655</td>\n",
       "      <td>1.661658e+06</td>\n",
       "    </tr>\n",
       "    <tr>\n",
       "      <th>std</th>\n",
       "      <td>NaN</td>\n",
       "      <td>NaN</td>\n",
       "      <td>NaN</td>\n",
       "      <td>NaN</td>\n",
       "      <td>NaN</td>\n",
       "    </tr>\n",
       "    <tr>\n",
       "      <th>min</th>\n",
       "      <td>1.12825</td>\n",
       "      <td>1.132624</td>\n",
       "      <td>1.126886</td>\n",
       "      <td>1.128655</td>\n",
       "      <td>1.661658e+06</td>\n",
       "    </tr>\n",
       "    <tr>\n",
       "      <th>25%</th>\n",
       "      <td>1.12825</td>\n",
       "      <td>1.132624</td>\n",
       "      <td>1.126886</td>\n",
       "      <td>1.128655</td>\n",
       "      <td>1.661658e+06</td>\n",
       "    </tr>\n",
       "    <tr>\n",
       "      <th>50%</th>\n",
       "      <td>1.12825</td>\n",
       "      <td>1.132624</td>\n",
       "      <td>1.126886</td>\n",
       "      <td>1.128655</td>\n",
       "      <td>1.661658e+06</td>\n",
       "    </tr>\n",
       "    <tr>\n",
       "      <th>75%</th>\n",
       "      <td>1.12825</td>\n",
       "      <td>1.132624</td>\n",
       "      <td>1.126886</td>\n",
       "      <td>1.128655</td>\n",
       "      <td>1.661658e+06</td>\n",
       "    </tr>\n",
       "    <tr>\n",
       "      <th>max</th>\n",
       "      <td>1.12825</td>\n",
       "      <td>1.132624</td>\n",
       "      <td>1.126886</td>\n",
       "      <td>1.128655</td>\n",
       "      <td>1.661658e+06</td>\n",
       "    </tr>\n",
       "  </tbody>\n",
       "</table>\n",
       "</div>"
      ],
      "text/plain": [
       "       Ожидаемые цены y_pred_open  y_pred_high  y_pred_low  y_pred_close  \\\n",
       "count                     1.00000     1.000000    1.000000      1.000000   \n",
       "mean                      1.12825     1.132624    1.126886      1.128655   \n",
       "std                           NaN          NaN         NaN           NaN   \n",
       "min                       1.12825     1.132624    1.126886      1.128655   \n",
       "25%                       1.12825     1.132624    1.126886      1.128655   \n",
       "50%                       1.12825     1.132624    1.126886      1.128655   \n",
       "75%                       1.12825     1.132624    1.126886      1.128655   \n",
       "max                       1.12825     1.132624    1.126886      1.128655   \n",
       "\n",
       "         y_pred_vol  \n",
       "count  1.000000e+00  \n",
       "mean   1.661658e+06  \n",
       "std             NaN  \n",
       "min    1.661658e+06  \n",
       "25%    1.661658e+06  \n",
       "50%    1.661658e+06  \n",
       "75%    1.661658e+06  \n",
       "max    1.661658e+06  "
      ]
     },
     "execution_count": 13,
     "metadata": {},
     "output_type": "execute_result"
    }
   ],
   "source": [
    "check_test.describe() "
   ]
  },
  {
   "cell_type": "code",
   "execution_count": 14,
   "metadata": {
    "scrolled": false
   },
   "outputs": [
    {
     "data": {
      "text/html": [
       "<div>\n",
       "<style scoped>\n",
       "    .dataframe tbody tr th:only-of-type {\n",
       "        vertical-align: middle;\n",
       "    }\n",
       "\n",
       "    .dataframe tbody tr th {\n",
       "        vertical-align: top;\n",
       "    }\n",
       "\n",
       "    .dataframe thead th {\n",
       "        text-align: right;\n",
       "    }\n",
       "</style>\n",
       "<table border=\"1\" class=\"dataframe\">\n",
       "  <thead>\n",
       "    <tr style=\"text-align: right;\">\n",
       "      <th></th>\n",
       "      <th>Ожидаемые цены y_pred_open</th>\n",
       "      <th>y_pred_high</th>\n",
       "      <th>y_pred_low</th>\n",
       "      <th>y_pred_close</th>\n",
       "      <th>y_pred_vol</th>\n",
       "    </tr>\n",
       "  </thead>\n",
       "  <tbody>\n",
       "    <tr>\n",
       "      <th>0</th>\n",
       "      <td>1.12825</td>\n",
       "      <td>1.132624</td>\n",
       "      <td>1.126886</td>\n",
       "      <td>1.128655</td>\n",
       "      <td>1.661658e+06</td>\n",
       "    </tr>\n",
       "  </tbody>\n",
       "</table>\n",
       "</div>"
      ],
      "text/plain": [
       "   Ожидаемые цены y_pred_open  y_pred_high  y_pred_low  y_pred_close  \\\n",
       "0                     1.12825     1.132624    1.126886      1.128655   \n",
       "\n",
       "     y_pred_vol  \n",
       "0  1.661658e+06  "
      ]
     },
     "execution_count": 14,
     "metadata": {},
     "output_type": "execute_result"
    }
   ],
   "source": [
    "check_test"
   ]
  },
  {
   "cell_type": "code",
   "execution_count": 15,
   "metadata": {},
   "outputs": [],
   "source": [
    "# Создание базы-контроля, для проверки насколько хорошо были предсказаны цены на текущий день\n",
    "files_contr = []\n",
    "for i in range(len(ANALIZE_TICKERS)): \n",
    "        files_contr.append(ANALIZE_TICKERS[i]+CONTROL_PER+'.csv')\n",
    "df_all_contr = readfiles_csv(files_contr)\n",
    "df_date, contr_price = create_x_y_df(df_all_contr, TICK, 0) # Фактические цены контрольные, по которым сегодня были заключены цены на инструмент\n",
    "# contr_price  -  реальные цены по сделкам, цены на которых мы прогнозировали "
   ]
  },
  {
   "cell_type": "code",
   "execution_count": 16,
   "metadata": {},
   "outputs": [
    {
     "data": {
      "text/html": [
       "<div>\n",
       "<style scoped>\n",
       "    .dataframe tbody tr th:only-of-type {\n",
       "        vertical-align: middle;\n",
       "    }\n",
       "\n",
       "    .dataframe tbody tr th {\n",
       "        vertical-align: top;\n",
       "    }\n",
       "\n",
       "    .dataframe thead th {\n",
       "        text-align: right;\n",
       "    }\n",
       "</style>\n",
       "<table border=\"1\" class=\"dataframe\">\n",
       "  <thead>\n",
       "    <tr style=\"text-align: right;\">\n",
       "      <th></th>\n",
       "      <th>&lt;OPEN&gt;EURUSD</th>\n",
       "      <th>&lt;HIGH&gt;EURUSD</th>\n",
       "      <th>&lt;LOW&gt;EURUSD</th>\n",
       "      <th>&lt;CLOSE&gt;EURUSD</th>\n",
       "      <th>&lt;VOL&gt;EURUSD</th>\n",
       "    </tr>\n",
       "  </thead>\n",
       "  <tbody>\n",
       "    <tr>\n",
       "      <th>0</th>\n",
       "      <td>1.12845</td>\n",
       "      <td>1.13124</td>\n",
       "      <td>1.1267</td>\n",
       "      <td>1.12771</td>\n",
       "      <td>1506695</td>\n",
       "    </tr>\n",
       "  </tbody>\n",
       "</table>\n",
       "</div>"
      ],
      "text/plain": [
       "   <OPEN>EURUSD  <HIGH>EURUSD  <LOW>EURUSD  <CLOSE>EURUSD  <VOL>EURUSD\n",
       "0       1.12845       1.13124       1.1267        1.12771      1506695"
      ]
     },
     "execution_count": 16,
     "metadata": {},
     "output_type": "execute_result"
    }
   ],
   "source": [
    "# contr_price.describe() #фактичекие цены по которым заключались сделки по инструменту TICK\n",
    "contr_price"
   ]
  },
  {
   "cell_type": "code",
   "execution_count": null,
   "metadata": {},
   "outputs": [],
   "source": [
    "\n",
    "\n",
    "\n"
   ]
  },
  {
   "cell_type": "code",
   "execution_count": null,
   "metadata": {},
   "outputs": [],
   "source": []
  }
 ],
 "metadata": {
  "kernelspec": {
   "display_name": "Python 3",
   "language": "python",
   "name": "python3"
  },
  "language_info": {
   "codemirror_mode": {
    "name": "ipython",
    "version": 3
   },
   "file_extension": ".py",
   "mimetype": "text/x-python",
   "name": "python",
   "nbconvert_exporter": "python",
   "pygments_lexer": "ipython3",
   "version": "3.7.1"
  }
 },
 "nbformat": 4,
 "nbformat_minor": 2
}
