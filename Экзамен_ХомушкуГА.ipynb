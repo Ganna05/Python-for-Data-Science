{
 "cells": [
  {
   "cell_type": "markdown",
   "metadata": {},
   "source": [
    "# Предсказание уровня заработной платы  \n",
    "\n",
    "https://archive.ics.uci.edu/ml/datasets/adult\n",
    "\n",
    "В данном экзамене вам нужно будет предсказывать уровень заработной платы респондента: больше 50к долларов в год или меньше.\n",
    "\n",
    "**Описание признаков**:\n",
    "\n",
    "1. Категорийные признаки\n",
    "\n",
    "`workclass`: Private, Self-emp-not-inc, Self-emp-inc, Federal-gov, Local-gov, State-gov, Without-pay, Never-worked. Individual work category\n",
    "\n",
    "`education`: Bachelors, Some-college, 11th, HS-grad, Prof-school, Assoc-acdm, Assoc-voc, 9th, 7th-8th, 12th, Masters, 1st-4th, 10th, Doctorate, 5th-6th, Preschool. Individual's highest education degree\n",
    "\n",
    "`marital-status`: Married-civ-spouse, Divorced, Never-married, Separated, Widowed, Married-spouse-absent, Married-AF-spouse. Individual marital status\n",
    "\n",
    "`occupation`: Tech-support, Craft-repair, Other-service, Sales, Exec-managerial, Prof-specialty, Handlers-cleaners, Machine-op-inspct, Adm-clerical, Farming-fishing, Transport-moving, Priv-house-serv, Protective-serv, Armed-Forces. Individual's occupation\n",
    "\n",
    "`relationship`: Wife, Own-child, Husband, Not-in-family, Other-relative, Unmarried. Individual's relation in a family\n",
    "\n",
    "`race`: White, Asian-Pac-Islander, Amer-Indian-Eskimo, Other, Black. Race of Individual\n",
    "\n",
    "`sex`: Female, Male.\n",
    "\n",
    "`native-country`: United-States, Cambodia, England, Puerto-Rico, Canada, Germany, Outlying-US(Guam-USVI-etc), India, Japan, Greece, South, China, Cuba, Iran, Honduras, Philippines, Italy, Poland, Jamaica, Vietnam, Mexico, Portugal, Ireland, France, Dominican-Republic, Laos, Ecuador, Taiwan, Haiti, Columbia, Hungary, Guatemala, Nicaragua, Scotland, Thailand, Yugoslavia, El-Salvador, Trinadad&Tobago, Peru, Hong, Holand-Netherlands. Individual's native country\n",
    "\n",
    "2. Количественные признаки\n",
    "\n",
    "`age`: continuous. Age of an individual\n",
    "\n",
    "`fnlwgt`: final weight, continuous. The weights on the CPS files are controlled to independent estimates of the civilian noninstitutional population of the US. These are prepared monthly for us by Population Division here at the Census Bureau.\n",
    "\n",
    "`capital-gain`: continuous.\n",
    "\n",
    "`capital-loss`: continuous.\n",
    "\n",
    "`hours-per-week`: continuous. Individual's working hour per week"
   ]
  },
  {
   "cell_type": "code",
   "execution_count": 1,
   "metadata": {},
   "outputs": [],
   "source": [
    "import pandas as pd\n",
    "import numpy as np\n",
    "import os\n",
    "import warnings\n",
    "warnings.filterwarnings(\"ignore\")\n",
    "os.chdir(\"C:/Users/Дана/Downloads/Python/Fintech_2020-main_1/Fintech_2020-main/Машинное обучение/Данные/ДЗ1/\")\n",
    "adult = pd.read_csv(\"adult.csv\", dtype = {\"fnlwgt\": int,\n",
    "                                             \"Education_Num\": int,\n",
    "                                             \"Capital_Gain\":int,\n",
    "                                             \"Capital_Loss\":int,\n",
    "                                             \"Hours_per_week\":int,\n",
    "                                             \"Age\":int})"
   ]
  },
  {
   "cell_type": "code",
   "execution_count": 2,
   "metadata": {},
   "outputs": [
    {
     "name": "stdout",
     "output_type": "stream",
     "text": [
      " <=50K     22654\n",
      " <=50K.    11360\n",
      " >50K       7508\n",
      " >50K.      3700\n",
      "Name: Target, dtype: int64\n",
      "<=50K    34014\n",
      ">50K     11208\n",
      "Name: Target, dtype: int64\n"
     ]
    }
   ],
   "source": [
    "# Список категориальных признаков\n",
    "cat_cols = ['Workclass', 'Education', 'Marital_Status', 'Occupation',\n",
    "            'Relationship', 'Race', 'Sex', 'Country']\n",
    "\n",
    "# Список количественных признаков\n",
    "quant_cols = list(set(adult.columns) - set(cat_cols))\n",
    "quant_cols.remove(\"Target\")\n",
    "# Удалим лишние пробелы перед значениями внутри категориальных столбцов\n",
    "for cat_col in cat_cols:\n",
    "    adult[cat_col] = adult[cat_col].str.strip(\" \")\n",
    "\n",
    "\n",
    "# Преобразуем категориальные признаки при помощи дамми-кодирования\n",
    "new_df = pd.concat([adult.drop(cat_cols, axis=1),\n",
    "                  pd.get_dummies(adult[cat_cols], drop_first=True)],\n",
    "                 axis=1)\n",
    "# Удалим строки с пропусками\n",
    "new_df = new_df.dropna()\n",
    "# Исправим неточности в целевой переменной\n",
    "print(new_df['Target'].value_counts())\n",
    "new_df['Target'] = new_df['Target'].str.strip(\" \")\n",
    "new_df['Target'] = new_df['Target'].map({\">50K.\":\">50K\", \n",
    "                                       \"<=50K.\":\"<=50K\"}).fillna(new_df['Target'])\n",
    "print(new_df['Target'].value_counts())"
   ]
  },
  {
   "cell_type": "markdown",
   "metadata": {},
   "source": [
    "# Задания\n",
    "\n",
    "ВНИМАНИЕ!!!\n",
    "ВЕЗДЕ, где есть параметр **random_state**, устанавливайте его равным **своему номеру**, иначе у нас могут не совпасть результаты и будет плохо (кроме KFold кросс-валидации у нас будет параметр Shufle=False, а значит и random_state не нужен). \n",
    "\n",
    "Результаты округляем до 5 знака после запятой. Например, ROC AUC = 0.56156\n",
    "\n",
    "Задание *найти оптимальный гиперпараметр* (если не оговорено иное) подразумевает 5  фолдовую стратифицированную кросс-валидацию с random_state, равным **вашему номеру**.\n",
    "\n",
    "По умолчанию мы используем ВСЕ ПРИЗНАКИ из датасетов."
   ]
  },
  {
   "cell_type": "code",
   "execution_count": 3,
   "metadata": {},
   "outputs": [],
   "source": [
    "students_random_state = {\n",
    " 'Базуева Мария Дмитриевна': 9933,\n",
    " 'Бориско Данила Ильич': 19563,\n",
    " 'Братков Герман Сергеевич': 2103,\n",
    " 'Орлан Суван-оол': 2113,\n",
    " 'Валл Федор Викторович': 1883,\n",
    " 'Егорова Анна Сергеевна': 253,\n",
    " 'Едовина Алина Игоревна': 353,\n",
    " 'Загарнюк Елизавета Максимовна': 9793,\n",
    " 'Захаров Алексей Сергееивч': 5873,\n",
    " 'Калёнов Алексей Аркадьевич': 13343,\n",
    " 'Карасева Алина Александровна': 12653,\n",
    " 'Каширин Егор Михайлович': 16723,\n",
    " 'Косинов Андрей Вячеславович': 9403,\n",
    " 'Красиков Евгений Владимирович': 6013,\n",
    " 'Кузьмин Никита Кириллович': 4523,\n",
    " 'Монгуш Тенгиз Анатольевич': 6683,\n",
    " 'Мурадян Акоп Араратович': 11553,\n",
    " 'Наумова Анастасия Юрьевна': 10203,\n",
    " 'Панчук Александр Сергеевич': 11253,\n",
    " 'Пашинина Татьяна Викторовна': 2683,\n",
    " 'Пустоваров Артем Андреевич': 1873,\n",
    " 'Роговая Тамара Олеговна': 14723,\n",
    " 'Селезнев Дмитрий Владимирович': 7343,\n",
    " 'Сидорякин Виталий Дмитриевич': 15544,\n",
    " 'Филиппов Антон Павлович': 1263,\n",
    " 'Фрольцов Григорий Максимович': 17233,\n",
    " 'Хамитов Давид Альбертович': 11944,\n",
    " 'Хомушку Ганна Алексеевна': 1582,\n",
    " 'Царева Мария Сергеевна': 11336}\n"
   ]
  },
  {
   "cell_type": "code",
   "execution_count": 4,
   "metadata": {},
   "outputs": [],
   "source": [
    "# Введите свой номер random state\n",
    "your_number_random_state = 1582\n",
    "\n",
    "# Для расчета доли, по которой будем делить датасеты\n",
    "max_ = max(list(map(lambda x: np.log(x), students_random_state.values())))\n",
    "frac_student = np.log(your_number_random_state) / max_\n",
    "\n",
    "# Уникальный датасет для каждого студента\n",
    "df_model = new_df.sample(frac = frac_student, random_state=your_number_random_state)\n",
    "\n",
    "\n",
    "# Определим целевую переменную \n",
    "X, y = df_model.drop(\"Target\", axis=1), df_model['Target'].map({\">50K\":1, \"<=50K\":0})"
   ]
  },
  {
   "cell_type": "code",
   "execution_count": 5,
   "metadata": {},
   "outputs": [
    {
     "data": {
      "text/plain": [
       "1582"
      ]
     },
     "execution_count": 5,
     "metadata": {},
     "output_type": "execute_result"
    }
   ],
   "source": [
    "your_number_random_state"
   ]
  },
  {
   "cell_type": "code",
   "execution_count": 6,
   "metadata": {},
   "outputs": [],
   "source": [
    "# Разобьем на тренировочную и тестовую (уже уменьшенный датасет для каждого студента)\n",
    "from sklearn.model_selection import train_test_split\n",
    "X_train, X_test, y_train, y_test = train_test_split(X, y, test_size=0.3,\n",
    "                                                   random_state=your_number_random_state)\n",
    "\n",
    "# Стандартизируем количественные признаки\n",
    "\n",
    "from sklearn.preprocessing import StandardScaler\n",
    "sc = StandardScaler()\n",
    "X_train[quant_cols] = sc.fit_transform(X_train[quant_cols])\n",
    "X_test[quant_cols] = sc.transform(X_test[quant_cols])\n",
    "\n",
    "# fio = 'Хомушку Ганна Алексеевна'\n",
    "# final_df = pd.DataFrame(index=[fio], columns=np.arange(1, 11))\n",
    "# from sklearn.model_selection import StratifiedKFold\n",
    "# kf = StratifiedKFold(n_splits=5)"
   ]
  },
  {
   "cell_type": "markdown",
   "metadata": {},
   "source": [
    "1) Обучите случайный лес с параметрами по умолчанию и со всеми признаками и\n",
    " сделайте прогноз на тестовых данных. Чему равен `ROC AUC` на тестовой выборке?"
   ]
  },
  {
   "cell_type": "code",
   "execution_count": 7,
   "metadata": {},
   "outputs": [
    {
     "name": "stdout",
     "output_type": "stream",
     "text": [
      "roc_auc_score =  0.898284426834951\n"
     ]
    }
   ],
   "source": [
    "from sklearn.ensemble import RandomForestClassifier\n",
    "from sklearn.metrics import roc_auc_score\n",
    "rfc = RandomForestClassifier(random_state=your_number_random_state)\n",
    "rfc.fit(X_train, y_train)\n",
    "rfc_pred = rfc.predict_proba(X_test)[:, 1]\n",
    "print('roc_auc_score = ', roc_auc_score(y_test, rfc.predict_proba(X_test)[:, 1]))\n"
   ]
  },
  {
   "cell_type": "code",
   "execution_count": 8,
   "metadata": {},
   "outputs": [
    {
     "name": "stdout",
     "output_type": "stream",
     "text": [
      "roc_auc_score =  0.89828\n"
     ]
    }
   ],
   "source": [
    "print('roc_auc_score = ', roc_auc_score(y_test, rfc_pred).round(5))"
   ]
  },
  {
   "cell_type": "markdown",
   "metadata": {},
   "source": [
    "<!-- 2) Среди следующих значений коэффициентов регуляризации альфа выберите тот,\n",
    "для которого `F1-score` на тестовой выборке для метода LightGBM c числом деревьев =\n",
    "25 и остальными опциями по умолчанию *со всеми факторами* будет максимальным.\n",
    "В ответе укажите значение максимального `Recall`.\n",
    "Используем библиотеку xgboost и метод XGBoostClassifier. -->\n",
    "\n",
    "2) Среди следующих значений коэффициентов регуляризации альфа выберите тот, для которого Recall на тестовой выборке для градиентного бустинга c числом деревьев = 25 и остальными опциями по умолчанию со всеми факторами будет максимальным. В ответе укажите значение максимального Recall. Используем библиотеку xgboost и метод XGBoostClassifier\n",
    "\n",
    "$$ regalpha = [0.1, 0.2, 0.5, 0.55, 0.65, 0.7, 0.8, 1] $$"
   ]
  },
  {
   "cell_type": "code",
   "execution_count": 9,
   "metadata": {},
   "outputs": [
    {
     "name": "stdout",
     "output_type": "stream",
     "text": [
      "[19:29:19] WARNING: C:/Users/Administrator/workspace/xgboost-win64_release_1.4.0/src/learner.cc:1095: Starting in XGBoost 1.3.0, the default evaluation metric used with the objective 'binary:logistic' was changed from 'error' to 'logloss'. Explicitly set eval_metric if you'd like to restore the old behavior.\n",
      "regalpha =  0.1  recall =  0.63311\n",
      "[19:29:22] WARNING: C:/Users/Administrator/workspace/xgboost-win64_release_1.4.0/src/learner.cc:1095: Starting in XGBoost 1.3.0, the default evaluation metric used with the objective 'binary:logistic' was changed from 'error' to 'logloss'. Explicitly set eval_metric if you'd like to restore the old behavior.\n",
      "regalpha =  0.2  recall =  0.63351\n",
      "[19:29:24] WARNING: C:/Users/Administrator/workspace/xgboost-win64_release_1.4.0/src/learner.cc:1095: Starting in XGBoost 1.3.0, the default evaluation metric used with the objective 'binary:logistic' was changed from 'error' to 'logloss'. Explicitly set eval_metric if you'd like to restore the old behavior.\n",
      "regalpha =  0.5  recall =  0.63589\n",
      "[19:29:27] WARNING: C:/Users/Administrator/workspace/xgboost-win64_release_1.4.0/src/learner.cc:1095: Starting in XGBoost 1.3.0, the default evaluation metric used with the objective 'binary:logistic' was changed from 'error' to 'logloss'. Explicitly set eval_metric if you'd like to restore the old behavior.\n",
      "regalpha =  0.55  recall =  0.6347\n",
      "[19:29:30] WARNING: C:/Users/Administrator/workspace/xgboost-win64_release_1.4.0/src/learner.cc:1095: Starting in XGBoost 1.3.0, the default evaluation metric used with the objective 'binary:logistic' was changed from 'error' to 'logloss'. Explicitly set eval_metric if you'd like to restore the old behavior.\n",
      "regalpha =  0.65  recall =  0.63709\n",
      "[19:29:33] WARNING: C:/Users/Administrator/workspace/xgboost-win64_release_1.4.0/src/learner.cc:1095: Starting in XGBoost 1.3.0, the default evaluation metric used with the objective 'binary:logistic' was changed from 'error' to 'logloss'. Explicitly set eval_metric if you'd like to restore the old behavior.\n",
      "regalpha =  0.7  recall =  0.63669\n",
      "[19:29:36] WARNING: C:/Users/Administrator/workspace/xgboost-win64_release_1.4.0/src/learner.cc:1095: Starting in XGBoost 1.3.0, the default evaluation metric used with the objective 'binary:logistic' was changed from 'error' to 'logloss'. Explicitly set eval_metric if you'd like to restore the old behavior.\n",
      "regalpha =  0.8  recall =  0.63311\n",
      "[19:29:39] WARNING: C:/Users/Administrator/workspace/xgboost-win64_release_1.4.0/src/learner.cc:1095: Starting in XGBoost 1.3.0, the default evaluation metric used with the objective 'binary:logistic' was changed from 'error' to 'logloss'. Explicitly set eval_metric if you'd like to restore the old behavior.\n",
      "regalpha =  1  recall =  0.63828\n",
      "max(recall_list) =  0.63828 max_recall =  0.63828 \n",
      " recall_list [0.63311, 0.63351, 0.63589, 0.6347, 0.63709, 0.63669, 0.63311, 0.63828]\n"
     ]
    }
   ],
   "source": [
    "from xgboost import XGBClassifier\n",
    "from sklearn.metrics import recall_score\n",
    "\n",
    "recall_list=[]\n",
    "max_recall = 0\n",
    "regalpha = [0.1,0.2,0.5,0.55,0.65,0.7,0.8,1]\n",
    "for i in regalpha:\n",
    "    xgb = XGBClassifier(n_estimators=25, reg_alpha=i, random_state=your_number_random_state)\n",
    "    xgb.fit(X_train, y_train)\n",
    "    y_predict = xgb.predict(X_test)\n",
    "    recall = np.round(recall_score(y_test, y_predict), 5)\n",
    "    print('regalpha = ', i, ' recall = ', recall)\n",
    "    recall_list.append(recall)\n",
    "    max_recall=max(max_recall, recall)\n",
    "print('max(recall_list) = ', max(recall_list), 'max_recall = ', max_recall,\\\n",
    "      '\\n recall_list', recall_list)"
   ]
  },
  {
   "cell_type": "code",
   "execution_count": 10,
   "metadata": {},
   "outputs": [
    {
     "name": "stdout",
     "output_type": "stream",
     "text": [
      "max(recall_list) =  0.63828 max_recall =  0.63828 \n",
      " recall_list [0.63311, 0.63351, 0.63589, 0.6347, 0.63709, 0.63669, 0.63311, 0.63828]\n"
     ]
    }
   ],
   "source": [
    "print('max(recall_list) = ', max(recall_list), 'max_recall = ', max_recall,\\\n",
    "      '\\n recall_list', recall_list)"
   ]
  },
  {
   "cell_type": "markdown",
   "metadata": {},
   "source": [
    "3) Чему равен `Precision` для дерева решений с параметрами по\n",
    "умолчанию (реализация sklearn, random_state соответствует вашему номеру)?\n"
   ]
  },
  {
   "cell_type": "code",
   "execution_count": 11,
   "metadata": {},
   "outputs": [
    {
     "name": "stdout",
     "output_type": "stream",
     "text": [
      "precision_score =  0.6065053550178501\n"
     ]
    }
   ],
   "source": [
    "from sklearn.metrics import precision_score\n",
    "from sklearn.tree import DecisionTreeClassifier\n",
    "tree = DecisionTreeClassifier(random_state=your_number_random_state)\n",
    "tree.fit(X_train, y_train)\n",
    "y_predict = tree.predict(X_test)\n",
    "print('precision_score = ', precision_score(y_test, tree.predict(X_test)))"
   ]
  },
  {
   "cell_type": "code",
   "execution_count": 12,
   "metadata": {},
   "outputs": [
    {
     "name": "stdout",
     "output_type": "stream",
     "text": [
      "precision_score =  0.60651\n"
     ]
    }
   ],
   "source": [
    "print('precision_score = ', np.round(precision_score(y_test, y_predict), 5))"
   ]
  },
  {
   "cell_type": "markdown",
   "metadata": {},
   "source": [
    "<!-- 4) Удалите признаки, для которых коэффициенты в LASSO регрессии равны\n",
    "нулю (на тренировочной выборке) и сделайте прогноз на тестовой выборке\n",
    "при помощи логистической регрессии с коэффициентом регуляризации C=0.01.\n",
    "В ответ запишите полученный `ROC_AUC`. -->\n",
    "\n",
    "4)Удалите признаки, для которых коэффициенты в LASSO регрессии равны нулю (на тренировочной выборке) и сделайте прогноз на тестовой выборке при помощи логистической регрессии (Ridge) с коэффициентом регуляризации C=0.01. В ответ запишите полученный ROC_AUC."
   ]
  },
  {
   "cell_type": "code",
   "execution_count": 13,
   "metadata": {},
   "outputs": [
    {
     "name": "stdout",
     "output_type": "stream",
     "text": [
      "roc_auc_score =  0.8999624528429014\n"
     ]
    }
   ],
   "source": [
    "from sklearn.metrics import roc_auc_score\n",
    "from sklearn.linear_model import LogisticRegression\n",
    "lasso = LogisticRegression(penalty='l1', solver='liblinear', random_state=your_number_random_state)\n",
    "lasso.fit(X_train, y_train)\n",
    "lasso_coefs = lasso.coef_\n",
    "lasso_coefs_zero = dict(zip(X_train.columns, lasso_coefs.flatten()))\n",
    "lasso_coefs_zero_dict = {key: value for key, value in lasso_coefs_zero.items() if value == 0}\n",
    "\n",
    "X_train_postlasso = X_train.drop(lasso_coefs_zero_dict.keys(), axis=1)\n",
    "X_test_postlasso = X_test.drop(lasso_coefs_zero_dict.keys(), axis=1)\n",
    "\n",
    "lr = LogisticRegression(C=0.01, random_state=your_number_random_state)\n",
    "lr.fit(X_train_postlasso, y_train)\n",
    "y_predict_postlasso = lr.predict_proba(X_test_postlasso)[:, 1]\n",
    "print('roc_auc_score = ', roc_auc_score(y_test, lr.predict_proba(X_test_postlasso)[:, 1]))"
   ]
  },
  {
   "cell_type": "code",
   "execution_count": 14,
   "metadata": {},
   "outputs": [
    {
     "name": "stdout",
     "output_type": "stream",
     "text": [
      "roc_auc_score =  0.89996\n"
     ]
    }
   ],
   "source": [
    "print('roc_auc_score = ', np.round(roc_auc_score(y_test, y_predict_postlasso), 5))"
   ]
  },
  {
   "cell_type": "markdown",
   "metadata": {},
   "source": [
    "5) При помощи кросс-валидации найдите оптимальные параметры\n",
    "*max_depth* (значения [1, 3, 5, 7]) и *min_samples_leaf* (значения [10, 50, 100])\n",
    "для случайного леса (остальные параметры по умолчанию).\n",
    "В ответ запишите значение `ROC AUC` на тестовой выборке при оптимальных параметрах.\n",
    "Оптимизироваться нужно именно на ROC AUC."
   ]
  },
  {
   "cell_type": "code",
   "execution_count": 15,
   "metadata": {},
   "outputs": [
    {
     "name": "stdout",
     "output_type": "stream",
     "text": [
      "Fitting 5 folds for each of 12 candidates, totalling 60 fits\n"
     ]
    },
    {
     "data": {
      "text/plain": [
       "({'max_depth': 7, 'min_samples_leaf': 10},\n",
       " 0.9049206330619896,\n",
       " 0.9033262268410553)"
      ]
     },
     "execution_count": 15,
     "metadata": {},
     "output_type": "execute_result"
    }
   ],
   "source": [
    "from sklearn.metrics import roc_auc_score\n",
    "from sklearn.model_selection import GridSearchCV\n",
    "from sklearn.ensemble import RandomForestClassifier\n",
    "from sklearn.model_selection import StratifiedKFold\n",
    "skf = StratifiedKFold(n_splits=5)\n",
    "\n",
    "rfc_params = {'max_depth': [1, 3, 5, 7], 'min_samples_leaf':[10, 50, 100]}\n",
    "rfc = RandomForestClassifier(random_state=your_number_random_state)\n",
    "rfc_grid = GridSearchCV(estimator=rfc, param_grid=rfc_params, scoring='roc_auc', n_jobs=-1, cv=skf, verbose=True)\n",
    "rfc_grid.fit(X_train, y_train)\n",
    "rfc_grid_pred = rfc_grid.predict_proba(X_test)[:, 1]\n",
    "rfc_grid.best_params_, rfc_grid.best_score_, roc_auc_score(y_test, rfc_grid.predict_proba(X_test)[:, 1])"
   ]
  },
  {
   "cell_type": "code",
   "execution_count": 16,
   "metadata": {},
   "outputs": [
    {
     "name": "stdout",
     "output_type": "stream",
     "text": [
      "roc_auc_score =  0.90333\n"
     ]
    }
   ],
   "source": [
    "print('roc_auc_score = ', roc_auc_score(y_test, rfc_grid_pred).round(5))"
   ]
  },
  {
   "cell_type": "markdown",
   "metadata": {},
   "source": [
    "6) Примените метод главных компонент с десятью компонентами.\n",
    "В ответ запишите `долю дисперсии, которая была объяснена данными\n",
    "компонентами`. Здесь тренировочную и тестовую выборку объединяем в одну."
   ]
  },
  {
   "cell_type": "code",
   "execution_count": 17,
   "metadata": {},
   "outputs": [
    {
     "data": {
      "text/plain": [
       "0.7762428498428796"
      ]
     },
     "execution_count": 17,
     "metadata": {},
     "output_type": "execute_result"
    }
   ],
   "source": [
    "from sklearn.decomposition import PCA\n",
    "pca = PCA(n_components=10, random_state=your_number_random_state)\n",
    "\n",
    "X_full=pd.concat([X_train, X_test], axis=0)\n",
    "\n",
    "pca.fit(X_full)\n",
    "# pca.transform(X_full)\n",
    "pca.explained_variance_ratio_.sum()"
   ]
  },
  {
   "cell_type": "code",
   "execution_count": 18,
   "metadata": {},
   "outputs": [
    {
     "name": "stdout",
     "output_type": "stream",
     "text": [
      "pca.explained_variance_ratio_.sum() =  0.77624\n"
     ]
    }
   ],
   "source": [
    "print('pca.explained_variance_ratio_.sum() = ', pca.explained_variance_ratio_.sum().round(5))"
   ]
  },
  {
   "cell_type": "markdown",
   "metadata": {},
   "source": [
    "7) Обучите модель бэггинга на тренировочном наборе данных для\n",
    "всех признаков для количества деревьев, равного 50.\n",
    "Чему равен `OOB score` на тренировочной выборке?"
   ]
  },
  {
   "cell_type": "code",
   "execution_count": 19,
   "metadata": {
    "scrolled": true
   },
   "outputs": [
    {
     "name": "stdout",
     "output_type": "stream",
     "text": [
      "bdt.oob_score_ =  0.848758369353335\n"
     ]
    }
   ],
   "source": [
    "from sklearn.ensemble import BaggingClassifier\n",
    "bdt = BaggingClassifier(n_estimators=50, random_state=your_number_random_state,\n",
    "                       oob_score=True)\n",
    "bdt.fit(X_train, y_train)\n",
    "print('bdt.oob_score_ = ', bdt.oob_score_)"
   ]
  },
  {
   "cell_type": "code",
   "execution_count": 20,
   "metadata": {},
   "outputs": [
    {
     "name": "stdout",
     "output_type": "stream",
     "text": [
      "bdt.oob_score_ =  0.84876\n"
     ]
    }
   ],
   "source": [
    "print('bdt.oob_score_ = ', np.round(bdt.oob_score_, 5))"
   ]
  },
  {
   "cell_type": "markdown",
   "metadata": {},
   "source": [
    "8) Подберите оптимальное значение\n",
    "max_features = [1, 2, 5, 10] для бэггинга,\n",
    "где в качестве базового алгоритма будет логистическая регрессия с C=0.05.\n",
    "Параметр n_estimators настройте равным 25.\n",
    "Оптимизируемся на `Precision`. Чему равен `ROC AUC` на тестовой выборке\n",
    "с лучшим гиперпараметров из тренировочной выборки?"
   ]
  },
  {
   "cell_type": "code",
   "execution_count": 21,
   "metadata": {},
   "outputs": [
    {
     "name": "stdout",
     "output_type": "stream",
     "text": [
      "Fitting 5 folds for each of 4 candidates, totalling 20 fits\n"
     ]
    },
    {
     "data": {
      "text/plain": [
       "({'max_features': 10}, 0.8766666666666667, 0.8752486020201857)"
      ]
     },
     "execution_count": 21,
     "metadata": {},
     "output_type": "execute_result"
    }
   ],
   "source": [
    "from sklearn.metrics import roc_auc_score\n",
    "from sklearn.metrics import precision_score\n",
    "from sklearn.linear_model import LogisticRegression\n",
    "from sklearn.ensemble import BaggingClassifier\n",
    "from sklearn.model_selection import GridSearchCV\n",
    "from sklearn.model_selection import StratifiedKFold\n",
    "skf = StratifiedKFold(n_splits=5)\n",
    "\n",
    "parameters = {'max_features':  [1, 2, 5, 10] }\n",
    "lr = LogisticRegression(C=0.05, random_state=your_number_random_state)\n",
    "bagdt = BaggingClassifier(base_estimator=lr, n_estimators=25, random_state=your_number_random_state)\n",
    "gcv_grid = GridSearchCV(estimator=bagdt, param_grid=parameters, scoring='precision', n_jobs=-1, cv=skf, verbose=True)\n",
    "gcv_grid.fit(X_train, y_train)\n",
    "gcv_grid_pred = gcv_grid.predict_proba(X_test)[:, 1]\n",
    "gcv_grid.best_params_, gcv_grid.best_score_, roc_auc_score(y_test, gcv_grid.predict_proba(X_test)[:, 1])\n"
   ]
  },
  {
   "cell_type": "code",
   "execution_count": 22,
   "metadata": {},
   "outputs": [
    {
     "name": "stdout",
     "output_type": "stream",
     "text": [
      "roc_auc_score =  0.87525\n"
     ]
    }
   ],
   "source": [
    "print('roc_auc_score = ', roc_auc_score(y_test, gcv_grid_pred).round(5))"
   ]
  },
  {
   "cell_type": "markdown",
   "metadata": {},
   "source": [
    "9) Примените метод\n",
    "kMeans с параметрами по умолчанию для числа кластеров\n",
    "*n_cluster* = {1, 3, 5, 10} на объединенной выборке (трейн + тест).\n",
    "В ответ запишите наибольшее значение `квадрата inertia`."
   ]
  },
  {
   "cell_type": "code",
   "execution_count": 23,
   "metadata": {},
   "outputs": [],
   "source": [
    "X_full, y_full = pd.concat([X_train,X_test],axis=0), pd.concat([y_train,y_test],axis=0)"
   ]
  },
  {
   "cell_type": "code",
   "execution_count": 24,
   "metadata": {},
   "outputs": [
    {
     "name": "stdout",
     "output_type": "stream",
     "text": [
      "max(deg_inertia) =  105399619642.65532\n"
     ]
    },
    {
     "data": {
      "image/png": "[encoded data removed]",
      "text/plain": [
       "<Figure size 432x288 with 1 Axes>"
      ]
     },
     "metadata": {
      "needs_background": "light"
     },
     "output_type": "display_data"
    }
   ],
   "source": [
    "from sklearn.cluster import KMeans\n",
    "from matplotlib import pyplot as plt\n",
    "degree =2\n",
    "deg_inertia = []\n",
    "n_cluster = [1, 3, 5, 10]\n",
    "for k in n_cluster:\n",
    "    kmeans = KMeans(n_clusters=k, random_state=your_number_random_state).fit(X_full)\n",
    "    deg_inertia.append((kmeans.inertia_)**degree)\n",
    "\n",
    "plt.plot(n_cluster, deg_inertia, marker='s');\n",
    "plt.xlabel('$k$')\n",
    "plt.ylabel('$J(C_k)$');\n",
    "print('max(deg_inertia) = ', max(deg_inertia))"
   ]
  },
  {
   "cell_type": "code",
   "execution_count": 25,
   "metadata": {},
   "outputs": [
    {
     "name": "stdout",
     "output_type": "stream",
     "text": [
      "max(deg_inertia) =  105399619642.65532\n"
     ]
    }
   ],
   "source": [
    "print('max(deg_inertia) = ', np.round(max(deg_inertia),5))"
   ]
  },
  {
   "cell_type": "markdown",
   "metadata": {
    "pycharm": {
     "name": "#%% md\n"
    }
   },
   "source": [
    "10) Халявный балл! Всем спасибо, что слушали меня этот учебный год!\n",
    "\n"
   ]
  }
 ],
 "metadata": {
  "kernelspec": {
   "display_name": "Python 3",
   "language": "python",
   "name": "python3"
  },
  "language_info": {
   "codemirror_mode": {
    "name": "ipython",
    "version": 3
   },
   "file_extension": ".py",
   "mimetype": "text/x-python",
   "name": "python",
   "nbconvert_exporter": "python",
   "pygments_lexer": "ipython3",
   "version": "3.8.8"
  },
  "toc": {
   "base_numbering": 1,
   "nav_menu": {},
   "number_sections": true,
   "sideBar": true,
   "skip_h1_title": false,
   "title_cell": "Table of Contents",
   "title_sidebar": "Contents",
   "toc_cell": false,
   "toc_position": {},
   "toc_section_display": true,
   "toc_window_display": false
  },
  "varInspector": {
   "cols": {
    "lenName": 16,
    "lenType": 16,
    "lenVar": 40
   },
   "kernels_config": {
    "python": {
     "delete_cmd_postfix": "",
     "delete_cmd_prefix": "del ",
     "library": "var_list.py",
     "varRefreshCmd": "print(var_dic_list())"
    },
    "r": {
     "delete_cmd_postfix": ") ",
     "delete_cmd_prefix": "rm(",
     "library": "var_list.r",
     "varRefreshCmd": "cat(var_dic_list()) "
    }
   },
   "types_to_exclude": [
    "module",
    "function",
    "builtin_function_or_method",
    "instance",
    "_Feature"
   ],
   "window_display": false
  }
 },
 "nbformat": 4,
 "nbformat_minor": 4
}
